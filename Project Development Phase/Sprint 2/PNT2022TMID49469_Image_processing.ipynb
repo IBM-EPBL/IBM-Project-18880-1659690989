{
  "nbformat": 4,
  "nbformat_minor": 0,
  "metadata": {
    "colab": {
      "provenance": [],
      "collapsed_sections": []
    },
    "kernelspec": {
      "name": "python3",
      "display_name": "Python 3"
    },
    "language_info": {
      "name": "python"
    }
  },
  "cells": [
    {
      "cell_type": "code",
      "execution_count": 13,
      "metadata": {
        "id": "Nmn6I4gbPC06"
      },
      "outputs": [],
      "source": [
        "from keras.datasets import mnist\n",
        "from tensorflow.keras import Sequential\n",
        "from keras.layers import Dense, Dropout\n",
        "from keras.utils import np_utils\n",
        "\n",
        "import numpy as np\n",
        "import pandas as pd\n",
        "import matplotlib.pyplot as plt\n",
        "%matplotlib inline\n",
        "\n"
      ]
    },
    {
      "cell_type": "code",
      "source": [
        "from tensorflow.keras.preprocessing.image import ImageDataGenerator"
      ],
      "metadata": {
        "id": "U5gIJFBiPoj3"
      },
      "execution_count": 14,
      "outputs": []
    },
    {
      "cell_type": "code",
      "source": [
        "train_datagen = ImageDataGenerator(rescale=1./255,shear_range=0.2,zoom_range=0.2,horizontal_flip=True,vertical_flip=True)"
      ],
      "metadata": {
        "id": "-ORcKpZ2PME1"
      },
      "execution_count": 15,
      "outputs": []
    },
    {
      "cell_type": "code",
      "source": [
        "test_datagen = ImageDataGenerator(rescale=1./255)"
      ],
      "metadata": {
        "id": "peuL3fSnPs8l"
      },
      "execution_count": 16,
      "outputs": []
    },
    {
      "cell_type": "code",
      "source": [
        "x_train = train_datagen.flow_from_directory(r\"/content/drive/MyDrive/training\",target_size=(64,64),batch_size=32,color_mode=\"rgb\",class_mode=\"sparse\")"
      ],
      "metadata": {
        "colab": {
          "base_uri": "https://localhost:8080/"
        },
        "id": "_omQgbcoPtJG",
        "outputId": "67637d33-1392-490d-a00f-433916c280c2"
      },
      "execution_count": 17,
      "outputs": [
        {
          "output_type": "stream",
          "name": "stdout",
          "text": [
            "Found 21573 images belonging to 46 classes.\n"
          ]
        }
      ]
    },
    {
      "cell_type": "code",
      "source": [
        "x_test = test_datagen.flow_from_directory(r\"/content/drive/MyDrive/testing\",target_size=(64,64),batch_size=32,color_mode=\"rgb\",class_mode=\"sparse\")"
      ],
      "metadata": {
        "colab": {
          "base_uri": "https://localhost:8080/"
        },
        "id": "4P6b8biuPiWy",
        "outputId": "68ade5f3-f3f7-445d-a078-3ef4b9bb54ab"
      },
      "execution_count": 18,
      "outputs": [
        {
          "output_type": "stream",
          "name": "stdout",
          "text": [
            "Found 4875 images belonging to 47 classes.\n"
          ]
        }
      ]
    },
    {
      "cell_type": "code",
      "source": [
        "print(x_train.class_indices)"
      ],
      "metadata": {
        "colab": {
          "base_uri": "https://localhost:8080/"
        },
        "id": "YqrNxEmiQOu6",
        "outputId": "ebdfd151-7cc8-4714-a007-565fa7924096"
      },
      "execution_count": 19,
      "outputs": [
        {
          "output_type": "stream",
          "name": "stdout",
          "text": [
            "{'Banana': 0, 'Beetroot': 1, 'Blueberry': 2, 'Cauliflower': 3, 'Cherry 1': 4, 'Cocos': 5, 'Corn': 6, 'Eggplant': 7, 'Ginger Root': 8, 'Grape Blue': 9, 'Grapefruit Pink': 10, 'Guava': 11, 'Kiwi': 12, 'Lemon': 13, 'Mango': 14, 'Onion Red': 15, 'Orange': 16, 'Papaya': 17, 'Pepper Green': 18, 'Pineapple': 19, 'Plum': 20, 'Potato Red': 21, 'Raspberry': 22, 'Strawberry': 23, 'Tomato 1': 24, 'Watermelon': 25, 'burger': 26, 'butter_naan': 27, 'chai': 28, 'chapati': 29, 'chole_bhature': 30, 'dal_makhani': 31, 'dhokla': 32, 'fried_rice': 33, 'idli': 34, 'jalebi': 35, 'kaathi_rolls': 36, 'kadai_paneer': 37, 'kulfi': 38, 'masala_dosa': 39, 'momos': 40, 'paani_puri': 41, 'pakode': 42, 'pav_bhaji': 43, 'pizza': 44, 'samosa': 45}\n"
          ]
        }
      ]
    },
    {
      "cell_type": "code",
      "source": [
        "print(x_test.class_indices)"
      ],
      "metadata": {
        "colab": {
          "base_uri": "https://localhost:8080/"
        },
        "id": "KVLMoE02Qb9z",
        "outputId": "8505694e-80f9-4d95-c53c-4c4b0d4afe2b"
      },
      "execution_count": 20,
      "outputs": [
        {
          "output_type": "stream",
          "name": "stdout",
          "text": [
            "{'Banana': 0, 'Beetroot': 1, 'Blueberry': 2, 'Cauliflower': 3, 'Cherry 1': 4, 'Cocos': 5, 'Corn': 6, 'Eggplant': 7, 'Ginger Root': 8, 'Granadilla': 9, 'Grape Blue': 10, 'Grapefruit Pink': 11, 'Guava': 12, 'Kiwi': 13, 'Lemon': 14, 'Mango': 15, 'Onion Red': 16, 'Orange': 17, 'Papaya': 18, 'Pepper Green': 19, 'Pineapple': 20, 'Plum': 21, 'Potato Red': 22, 'Raspberry': 23, 'Strawberry': 24, 'Tomato 1': 25, 'Watermelon': 26, 'burger': 27, 'butter_naan': 28, 'chai': 29, 'chapati': 30, 'chole_bhature': 31, 'dal_makhani': 32, 'dhokla': 33, 'fried_rice': 34, 'idli': 35, 'jalebi': 36, 'kaathi_rolls': 37, 'kadai_paneer': 38, 'kulfi': 39, 'masala_dosa': 40, 'momos': 41, 'paani_puri': 42, 'pakode': 43, 'pav_bhaji': 44, 'pizza': 45, 'samosa': 46}\n"
          ]
        }
      ]
    },
    {
      "cell_type": "code",
      "source": [
        "from collections import Counter as c\n",
        "c(x_train.labels)\n"
      ],
      "metadata": {
        "id": "5nabt5trpJjn",
        "colab": {
          "base_uri": "https://localhost:8080/"
        },
        "outputId": "de3a6181-f9a3-44e8-af61-bb377f4a0240"
      },
      "execution_count": 21,
      "outputs": [
        {
          "output_type": "execute_result",
          "data": {
            "text/plain": [
              "Counter({0: 490,\n",
              "         1: 450,\n",
              "         2: 462,\n",
              "         3: 702,\n",
              "         4: 492,\n",
              "         5: 490,\n",
              "         6: 450,\n",
              "         7: 468,\n",
              "         8: 297,\n",
              "         9: 984,\n",
              "         10: 982,\n",
              "         11: 490,\n",
              "         12: 466,\n",
              "         13: 929,\n",
              "         14: 490,\n",
              "         15: 450,\n",
              "         16: 479,\n",
              "         17: 492,\n",
              "         18: 444,\n",
              "         19: 490,\n",
              "         20: 447,\n",
              "         21: 450,\n",
              "         22: 490,\n",
              "         23: 492,\n",
              "         24: 738,\n",
              "         25: 475,\n",
              "         26: 309,\n",
              "         27: 329,\n",
              "         28: 381,\n",
              "         29: 921,\n",
              "         30: 416,\n",
              "         31: 321,\n",
              "         32: 289,\n",
              "         33: 355,\n",
              "         34: 309,\n",
              "         35: 297,\n",
              "         36: 293,\n",
              "         37: 412,\n",
              "         38: 236,\n",
              "         39: 311,\n",
              "         40: 319,\n",
              "         41: 130,\n",
              "         42: 278,\n",
              "         43: 353,\n",
              "         44: 963,\n",
              "         45: 262})"
            ]
          },
          "metadata": {},
          "execution_count": 21
        }
      ]
    }
  ]
}